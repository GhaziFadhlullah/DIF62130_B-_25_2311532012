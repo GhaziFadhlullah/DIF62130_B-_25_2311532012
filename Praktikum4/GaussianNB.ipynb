{
  "nbformat": 4,
  "nbformat_minor": 0,
  "metadata": {
    "colab": {
      "provenance": [],
      "authorship_tag": "ABX9TyO+GW8aWTWCNxILqmdmrax1",
      "include_colab_link": true
    },
    "kernelspec": {
      "name": "python3",
      "display_name": "Python 3"
    },
    "language_info": {
      "name": "python"
    }
  },
  "cells": [
    {
      "cell_type": "markdown",
      "metadata": {
        "id": "view-in-github",
        "colab_type": "text"
      },
      "source": [
        "<a href=\"https://colab.research.google.com/github/GhaziFadhlullah/DIF62130_B-_25_2311532012/blob/main/Praktikum4/GaussianNB.ipynb\" target=\"_parent\"><img src=\"https://colab.research.google.com/assets/colab-badge.svg\" alt=\"Open In Colab\"/></a>"
      ]
    },
    {
      "cell_type": "code",
      "execution_count": 1,
      "metadata": {
        "id": "ylw_bxknjvoO"
      },
      "outputs": [],
      "source": [
        "from sklearn.model_selection import train_test_split\n",
        "from sklearn.metrics import accuracy_score\n",
        "import pandas as pd\n",
        "import numpy as np"
      ]
    },
    {
      "cell_type": "markdown",
      "source": [
        "Kode ini berisi perintah untuk mengimpor beberapa library dan fungsi yang sering digunakan dalam pemodelan machine learning.\n",
        "\n",
        "train_test_split dari sklearn.model_selection digunakan untuk membagi dataset menjadi data latih dan data uji secara acak agar model bisa dilatih dan diuji secara terpisah.\n",
        "\n",
        "accuracy_score dari sklearn.metrics dipakai untuk mengukur performa model dengan menghitung persentase prediksi yang benar.\n",
        "\n",
        "pandas diimpor dengan alias pd untuk mengelola dan memanipulasi data dalam bentuk tabel (dataframe).\n",
        "\n",
        "numpy diimpor dengan alias np untuk melakukan operasi numerik dan komputasi matematis yang efisien.\n",
        "\n",
        "Import ini biasanya menjadi langkah awal dalam membuat program machine learning agar semua alat yang diperlukan sudah siap digunakan.\n",
        "\n",
        "\n",
        "\n",
        "\n",
        "\n",
        "\n",
        "\n",
        "\n",
        "\n"
      ],
      "metadata": {
        "id": "KcDXFRvjAnc9"
      }
    },
    {
      "cell_type": "code",
      "source": [
        "dataset_dict = {\n",
        "    'Rainfall': [0.0, 2.0, 7.0, 18.0, 3.0, 3.0, 0.0, 1.0, 0.0, 25.0, 0.0, 18.0, 9.0, 5.0, 0.0, 1.0, 7.0, 0.0, 0.0, 7.0, 5.0, 3.0, 0.0, 2.0, 0.0, 8.0, 4.0, 4.0],\n",
        "    'Temperature': [29.4, 26.7, 28.3, 21.1, 20.0, 18.3, 17.8, 22.2, 20.6, 23.9, 23.9, 22.2, 27.2, 21.7, 27.2, 23.3, 24.4, 25.6, 27.8, 19.4, 29.4, 22.8, 31.1, 25.0, 26.1, 26.7, 18.9, 28.9],\n",
        "    'Humidity': [85.0, 90.0, 78.0, 96.0, 80.0, 70.0, 65.0, 95.0, 70.0, 80.0, 70.0, 90.0, 75.0, 80.0, 88.0, 92.0, 85.0, 75.0, 92.0, 90.0, 85.0, 88.0, 65.0, 70.0, 60.0, 95.0, 70.0, 78.0],\n",
        "    'WindSpeed': [2.1, 21.2, 1.5, 3.3, 2.0, 17.4, 14.9, 6.9, 2.7, 1.6, 30.3, 10.9, 3.0, 7.5, 10.3, 3.0, 3.9, 21.9, 2.6, 17.3, 9.6, 1.9, 16.0, 4.6, 3.2, 8.3, 3.2, 2.2],\n",
        "    'Play': ['No', 'No', 'Yes', 'Yes', 'Yes', 'No', 'Yes', 'No', 'Yes', 'Yes', 'Yes', 'Yes', 'Yes', 'No', 'No', 'Yes', 'Yes', 'No', 'No', 'No', 'Yes', 'Yes', 'Yes', 'Yes', 'Yes', 'Yes', 'No', 'Yes']\n",
        "}\n",
        "\n",
        "df = pd.DataFrame(dataset_dict)\n",
        "df.head()"
      ],
      "metadata": {
        "colab": {
          "base_uri": "https://localhost:8080/",
          "height": 206
        },
        "id": "xKgzuXeXkSMy",
        "outputId": "e519ca68-9508-444c-f4ab-4d10a7dc66cf"
      },
      "execution_count": 2,
      "outputs": [
        {
          "output_type": "execute_result",
          "data": {
            "text/plain": [
              "   Rainfall  Temperature  Humidity  WindSpeed Play\n",
              "0       0.0         29.4      85.0        2.1   No\n",
              "1       2.0         26.7      90.0       21.2   No\n",
              "2       7.0         28.3      78.0        1.5  Yes\n",
              "3      18.0         21.1      96.0        3.3  Yes\n",
              "4       3.0         20.0      80.0        2.0  Yes"
            ],
            "text/html": [
              "\n",
              "  <div id=\"df-2419fda2-2498-46e7-b1a1-7a3f39b0ecaf\" class=\"colab-df-container\">\n",
              "    <div>\n",
              "<style scoped>\n",
              "    .dataframe tbody tr th:only-of-type {\n",
              "        vertical-align: middle;\n",
              "    }\n",
              "\n",
              "    .dataframe tbody tr th {\n",
              "        vertical-align: top;\n",
              "    }\n",
              "\n",
              "    .dataframe thead th {\n",
              "        text-align: right;\n",
              "    }\n",
              "</style>\n",
              "<table border=\"1\" class=\"dataframe\">\n",
              "  <thead>\n",
              "    <tr style=\"text-align: right;\">\n",
              "      <th></th>\n",
              "      <th>Rainfall</th>\n",
              "      <th>Temperature</th>\n",
              "      <th>Humidity</th>\n",
              "      <th>WindSpeed</th>\n",
              "      <th>Play</th>\n",
              "    </tr>\n",
              "  </thead>\n",
              "  <tbody>\n",
              "    <tr>\n",
              "      <th>0</th>\n",
              "      <td>0.0</td>\n",
              "      <td>29.4</td>\n",
              "      <td>85.0</td>\n",
              "      <td>2.1</td>\n",
              "      <td>No</td>\n",
              "    </tr>\n",
              "    <tr>\n",
              "      <th>1</th>\n",
              "      <td>2.0</td>\n",
              "      <td>26.7</td>\n",
              "      <td>90.0</td>\n",
              "      <td>21.2</td>\n",
              "      <td>No</td>\n",
              "    </tr>\n",
              "    <tr>\n",
              "      <th>2</th>\n",
              "      <td>7.0</td>\n",
              "      <td>28.3</td>\n",
              "      <td>78.0</td>\n",
              "      <td>1.5</td>\n",
              "      <td>Yes</td>\n",
              "    </tr>\n",
              "    <tr>\n",
              "      <th>3</th>\n",
              "      <td>18.0</td>\n",
              "      <td>21.1</td>\n",
              "      <td>96.0</td>\n",
              "      <td>3.3</td>\n",
              "      <td>Yes</td>\n",
              "    </tr>\n",
              "    <tr>\n",
              "      <th>4</th>\n",
              "      <td>3.0</td>\n",
              "      <td>20.0</td>\n",
              "      <td>80.0</td>\n",
              "      <td>2.0</td>\n",
              "      <td>Yes</td>\n",
              "    </tr>\n",
              "  </tbody>\n",
              "</table>\n",
              "</div>\n",
              "    <div class=\"colab-df-buttons\">\n",
              "\n",
              "  <div class=\"colab-df-container\">\n",
              "    <button class=\"colab-df-convert\" onclick=\"convertToInteractive('df-2419fda2-2498-46e7-b1a1-7a3f39b0ecaf')\"\n",
              "            title=\"Convert this dataframe to an interactive table.\"\n",
              "            style=\"display:none;\">\n",
              "\n",
              "  <svg xmlns=\"http://www.w3.org/2000/svg\" height=\"24px\" viewBox=\"0 -960 960 960\">\n",
              "    <path d=\"M120-120v-720h720v720H120Zm60-500h600v-160H180v160Zm220 220h160v-160H400v160Zm0 220h160v-160H400v160ZM180-400h160v-160H180v160Zm440 0h160v-160H620v160ZM180-180h160v-160H180v160Zm440 0h160v-160H620v160Z\"/>\n",
              "  </svg>\n",
              "    </button>\n",
              "\n",
              "  <style>\n",
              "    .colab-df-container {\n",
              "      display:flex;\n",
              "      gap: 12px;\n",
              "    }\n",
              "\n",
              "    .colab-df-convert {\n",
              "      background-color: #E8F0FE;\n",
              "      border: none;\n",
              "      border-radius: 50%;\n",
              "      cursor: pointer;\n",
              "      display: none;\n",
              "      fill: #1967D2;\n",
              "      height: 32px;\n",
              "      padding: 0 0 0 0;\n",
              "      width: 32px;\n",
              "    }\n",
              "\n",
              "    .colab-df-convert:hover {\n",
              "      background-color: #E2EBFA;\n",
              "      box-shadow: 0px 1px 2px rgba(60, 64, 67, 0.3), 0px 1px 3px 1px rgba(60, 64, 67, 0.15);\n",
              "      fill: #174EA6;\n",
              "    }\n",
              "\n",
              "    .colab-df-buttons div {\n",
              "      margin-bottom: 4px;\n",
              "    }\n",
              "\n",
              "    [theme=dark] .colab-df-convert {\n",
              "      background-color: #3B4455;\n",
              "      fill: #D2E3FC;\n",
              "    }\n",
              "\n",
              "    [theme=dark] .colab-df-convert:hover {\n",
              "      background-color: #434B5C;\n",
              "      box-shadow: 0px 1px 3px 1px rgba(0, 0, 0, 0.15);\n",
              "      filter: drop-shadow(0px 1px 2px rgba(0, 0, 0, 0.3));\n",
              "      fill: #FFFFFF;\n",
              "    }\n",
              "  </style>\n",
              "\n",
              "    <script>\n",
              "      const buttonEl =\n",
              "        document.querySelector('#df-2419fda2-2498-46e7-b1a1-7a3f39b0ecaf button.colab-df-convert');\n",
              "      buttonEl.style.display =\n",
              "        google.colab.kernel.accessAllowed ? 'block' : 'none';\n",
              "\n",
              "      async function convertToInteractive(key) {\n",
              "        const element = document.querySelector('#df-2419fda2-2498-46e7-b1a1-7a3f39b0ecaf');\n",
              "        const dataTable =\n",
              "          await google.colab.kernel.invokeFunction('convertToInteractive',\n",
              "                                                    [key], {});\n",
              "        if (!dataTable) return;\n",
              "\n",
              "        const docLinkHtml = 'Like what you see? Visit the ' +\n",
              "          '<a target=\"_blank\" href=https://colab.research.google.com/notebooks/data_table.ipynb>data table notebook</a>'\n",
              "          + ' to learn more about interactive tables.';\n",
              "        element.innerHTML = '';\n",
              "        dataTable['output_type'] = 'display_data';\n",
              "        await google.colab.output.renderOutput(dataTable, element);\n",
              "        const docLink = document.createElement('div');\n",
              "        docLink.innerHTML = docLinkHtml;\n",
              "        element.appendChild(docLink);\n",
              "      }\n",
              "    </script>\n",
              "  </div>\n",
              "\n",
              "\n",
              "    <div id=\"df-5a95a9a0-b6bd-4fc2-8252-ec669335d068\">\n",
              "      <button class=\"colab-df-quickchart\" onclick=\"quickchart('df-5a95a9a0-b6bd-4fc2-8252-ec669335d068')\"\n",
              "                title=\"Suggest charts\"\n",
              "                style=\"display:none;\">\n",
              "\n",
              "<svg xmlns=\"http://www.w3.org/2000/svg\" height=\"24px\"viewBox=\"0 0 24 24\"\n",
              "     width=\"24px\">\n",
              "    <g>\n",
              "        <path d=\"M19 3H5c-1.1 0-2 .9-2 2v14c0 1.1.9 2 2 2h14c1.1 0 2-.9 2-2V5c0-1.1-.9-2-2-2zM9 17H7v-7h2v7zm4 0h-2V7h2v10zm4 0h-2v-4h2v4z\"/>\n",
              "    </g>\n",
              "</svg>\n",
              "      </button>\n",
              "\n",
              "<style>\n",
              "  .colab-df-quickchart {\n",
              "      --bg-color: #E8F0FE;\n",
              "      --fill-color: #1967D2;\n",
              "      --hover-bg-color: #E2EBFA;\n",
              "      --hover-fill-color: #174EA6;\n",
              "      --disabled-fill-color: #AAA;\n",
              "      --disabled-bg-color: #DDD;\n",
              "  }\n",
              "\n",
              "  [theme=dark] .colab-df-quickchart {\n",
              "      --bg-color: #3B4455;\n",
              "      --fill-color: #D2E3FC;\n",
              "      --hover-bg-color: #434B5C;\n",
              "      --hover-fill-color: #FFFFFF;\n",
              "      --disabled-bg-color: #3B4455;\n",
              "      --disabled-fill-color: #666;\n",
              "  }\n",
              "\n",
              "  .colab-df-quickchart {\n",
              "    background-color: var(--bg-color);\n",
              "    border: none;\n",
              "    border-radius: 50%;\n",
              "    cursor: pointer;\n",
              "    display: none;\n",
              "    fill: var(--fill-color);\n",
              "    height: 32px;\n",
              "    padding: 0;\n",
              "    width: 32px;\n",
              "  }\n",
              "\n",
              "  .colab-df-quickchart:hover {\n",
              "    background-color: var(--hover-bg-color);\n",
              "    box-shadow: 0 1px 2px rgba(60, 64, 67, 0.3), 0 1px 3px 1px rgba(60, 64, 67, 0.15);\n",
              "    fill: var(--button-hover-fill-color);\n",
              "  }\n",
              "\n",
              "  .colab-df-quickchart-complete:disabled,\n",
              "  .colab-df-quickchart-complete:disabled:hover {\n",
              "    background-color: var(--disabled-bg-color);\n",
              "    fill: var(--disabled-fill-color);\n",
              "    box-shadow: none;\n",
              "  }\n",
              "\n",
              "  .colab-df-spinner {\n",
              "    border: 2px solid var(--fill-color);\n",
              "    border-color: transparent;\n",
              "    border-bottom-color: var(--fill-color);\n",
              "    animation:\n",
              "      spin 1s steps(1) infinite;\n",
              "  }\n",
              "\n",
              "  @keyframes spin {\n",
              "    0% {\n",
              "      border-color: transparent;\n",
              "      border-bottom-color: var(--fill-color);\n",
              "      border-left-color: var(--fill-color);\n",
              "    }\n",
              "    20% {\n",
              "      border-color: transparent;\n",
              "      border-left-color: var(--fill-color);\n",
              "      border-top-color: var(--fill-color);\n",
              "    }\n",
              "    30% {\n",
              "      border-color: transparent;\n",
              "      border-left-color: var(--fill-color);\n",
              "      border-top-color: var(--fill-color);\n",
              "      border-right-color: var(--fill-color);\n",
              "    }\n",
              "    40% {\n",
              "      border-color: transparent;\n",
              "      border-right-color: var(--fill-color);\n",
              "      border-top-color: var(--fill-color);\n",
              "    }\n",
              "    60% {\n",
              "      border-color: transparent;\n",
              "      border-right-color: var(--fill-color);\n",
              "    }\n",
              "    80% {\n",
              "      border-color: transparent;\n",
              "      border-right-color: var(--fill-color);\n",
              "      border-bottom-color: var(--fill-color);\n",
              "    }\n",
              "    90% {\n",
              "      border-color: transparent;\n",
              "      border-bottom-color: var(--fill-color);\n",
              "    }\n",
              "  }\n",
              "</style>\n",
              "\n",
              "      <script>\n",
              "        async function quickchart(key) {\n",
              "          const quickchartButtonEl =\n",
              "            document.querySelector('#' + key + ' button');\n",
              "          quickchartButtonEl.disabled = true;  // To prevent multiple clicks.\n",
              "          quickchartButtonEl.classList.add('colab-df-spinner');\n",
              "          try {\n",
              "            const charts = await google.colab.kernel.invokeFunction(\n",
              "                'suggestCharts', [key], {});\n",
              "          } catch (error) {\n",
              "            console.error('Error during call to suggestCharts:', error);\n",
              "          }\n",
              "          quickchartButtonEl.classList.remove('colab-df-spinner');\n",
              "          quickchartButtonEl.classList.add('colab-df-quickchart-complete');\n",
              "        }\n",
              "        (() => {\n",
              "          let quickchartButtonEl =\n",
              "            document.querySelector('#df-5a95a9a0-b6bd-4fc2-8252-ec669335d068 button');\n",
              "          quickchartButtonEl.style.display =\n",
              "            google.colab.kernel.accessAllowed ? 'block' : 'none';\n",
              "        })();\n",
              "      </script>\n",
              "    </div>\n",
              "\n",
              "    </div>\n",
              "  </div>\n"
            ],
            "application/vnd.google.colaboratory.intrinsic+json": {
              "type": "dataframe",
              "variable_name": "df",
              "summary": "{\n  \"name\": \"df\",\n  \"rows\": 28,\n  \"fields\": [\n    {\n      \"column\": \"Rainfall\",\n      \"properties\": {\n        \"dtype\": \"number\",\n        \"std\": 6.270785542717221,\n        \"min\": 0.0,\n        \"max\": 25.0,\n        \"num_unique_values\": 11,\n        \"samples\": [\n          1.0,\n          0.0,\n          8.0\n        ],\n        \"semantic_type\": \"\",\n        \"description\": \"\"\n      }\n    },\n    {\n      \"column\": \"Temperature\",\n      \"properties\": {\n        \"dtype\": \"number\",\n        \"std\": 3.723902132165544,\n        \"min\": 17.8,\n        \"max\": 31.1,\n        \"num_unique_values\": 23,\n        \"samples\": [\n          27.8,\n          23.9,\n          29.4\n        ],\n        \"semantic_type\": \"\",\n        \"description\": \"\"\n      }\n    },\n    {\n      \"column\": \"Humidity\",\n      \"properties\": {\n        \"dtype\": \"number\",\n        \"std\": 10.354241520281311,\n        \"min\": 60.0,\n        \"max\": 96.0,\n        \"num_unique_values\": 12,\n        \"samples\": [\n          92.0,\n          88.0,\n          85.0\n        ],\n        \"semantic_type\": \"\",\n        \"description\": \"\"\n      }\n    },\n    {\n      \"column\": \"WindSpeed\",\n      \"properties\": {\n        \"dtype\": \"number\",\n        \"std\": 7.684956616732342,\n        \"min\": 1.5,\n        \"max\": 30.3,\n        \"num_unique_values\": 26,\n        \"samples\": [\n          2.7,\n          21.9,\n          2.1\n        ],\n        \"semantic_type\": \"\",\n        \"description\": \"\"\n      }\n    },\n    {\n      \"column\": \"Play\",\n      \"properties\": {\n        \"dtype\": \"category\",\n        \"num_unique_values\": 2,\n        \"samples\": [\n          \"Yes\",\n          \"No\"\n        ],\n        \"semantic_type\": \"\",\n        \"description\": \"\"\n      }\n    }\n  ]\n}"
            }
          },
          "metadata": {},
          "execution_count": 2
        }
      ]
    },
    {
      "cell_type": "markdown",
      "source": [
        "Kode ini membuat sebuah dataset sederhana dalam bentuk dictionary yang berisi data cuaca dan keputusan bermain. Dataset ini memiliki lima kolom yaitu Rainfall (curah hujan), Temperature (suhu), Humidity (kelembapan), WindSpeed (kecepatan angin), dan Play (keputusan bermain, dengan nilai \"Yes\" atau \"No\").\n",
        "\n",
        "Selanjutnya, dictionary tersebut dikonversi menjadi sebuah DataFrame menggunakan pd.DataFrame(). DataFrame ini adalah struktur data tabular yang mudah digunakan untuk analisis dan pemrosesan data dalam Python.\n",
        "\n",
        "Terakhir, df.head() menampilkan lima baris pertama dari DataFrame untuk memberikan gambaran awal tentang isi dataset tersebut. Ini membantu melihat seperti apa data yang akan diproses dan dianalisis."
      ],
      "metadata": {
        "id": "S4EeaFoMAsqG"
      }
    },
    {
      "cell_type": "markdown",
      "source": [
        "Bagi data menjadi data latih dan data uji\n",
        "\n",
        "\n",
        "\n"
      ],
      "metadata": {
        "id": "_rhNjPn4ka5Y"
      }
    },
    {
      "cell_type": "code",
      "source": [
        "X, y = df.drop(columns='Play'), df['Play']\n",
        "\n",
        "X_train, X_test, y_train, y_test = train_test_split(X, y, train_size=0.7, shuffle=False)\n",
        "print(pd.concat([X_train, y_train], axis=1), end='\\n\\n')\n",
        "print(pd.concat([X_test, y_test], axis=1))"
      ],
      "metadata": {
        "colab": {
          "base_uri": "https://localhost:8080/"
        },
        "id": "yfzc1mxbkllj",
        "outputId": "e4e6cadb-1b78-4949-ff57-cb82620f6823"
      },
      "execution_count": 3,
      "outputs": [
        {
          "output_type": "stream",
          "name": "stdout",
          "text": [
            "    Rainfall  Temperature  Humidity  WindSpeed Play\n",
            "0        0.0         29.4      85.0        2.1   No\n",
            "1        2.0         26.7      90.0       21.2   No\n",
            "2        7.0         28.3      78.0        1.5  Yes\n",
            "3       18.0         21.1      96.0        3.3  Yes\n",
            "4        3.0         20.0      80.0        2.0  Yes\n",
            "5        3.0         18.3      70.0       17.4   No\n",
            "6        0.0         17.8      65.0       14.9  Yes\n",
            "7        1.0         22.2      95.0        6.9   No\n",
            "8        0.0         20.6      70.0        2.7  Yes\n",
            "9       25.0         23.9      80.0        1.6  Yes\n",
            "10       0.0         23.9      70.0       30.3  Yes\n",
            "11      18.0         22.2      90.0       10.9  Yes\n",
            "12       9.0         27.2      75.0        3.0  Yes\n",
            "13       5.0         21.7      80.0        7.5   No\n",
            "14       0.0         27.2      88.0       10.3   No\n",
            "15       1.0         23.3      92.0        3.0  Yes\n",
            "16       7.0         24.4      85.0        3.9  Yes\n",
            "17       0.0         25.6      75.0       21.9   No\n",
            "18       0.0         27.8      92.0        2.6   No\n",
            "\n",
            "    Rainfall  Temperature  Humidity  WindSpeed Play\n",
            "19       7.0         19.4      90.0       17.3   No\n",
            "20       5.0         29.4      85.0        9.6  Yes\n",
            "21       3.0         22.8      88.0        1.9  Yes\n",
            "22       0.0         31.1      65.0       16.0  Yes\n",
            "23       2.0         25.0      70.0        4.6  Yes\n",
            "24       0.0         26.1      60.0        3.2  Yes\n",
            "25       8.0         26.7      95.0        8.3  Yes\n",
            "26       4.0         18.9      70.0        3.2   No\n",
            "27       4.0         28.9      78.0        2.2  Yes\n"
          ]
        }
      ]
    },
    {
      "cell_type": "markdown",
      "source": [
        "Kode ini memisahkan dataset menjadi dua bagian, yaitu fitur dan target. Variabel X berisi semua kolom kecuali kolom Play, yang merupakan fitur atau data input, sementara y berisi kolom Play yang menjadi target atau label yang ingin diprediksi.\n",
        "\n",
        "Selanjutnya, data dibagi menjadi data latih dan data uji menggunakan fungsi train_test_split. Dengan parameter train_size=0.7, 70% data digunakan untuk pelatihan, dan sisanya 30% untuk pengujian. Parameter shuffle=False memastikan data tidak diacak saat pembagian, sehingga urutan data tetap terjaga.\n",
        "\n",
        "Terakhir, dua bagian data tersebut, baik data latih dan data uji, digabungkan kembali dengan label masing-masing menggunakan pd.concat agar dapat ditampilkan secara lengkap. Fungsi print menampilkan data latih dan data uji tersebut secara berurutan dengan jarak baris kosong di antaranya, sehingga mudah untuk melihat bagaimana data dibagi dan apa saja isi dari masing-masing bagian."
      ],
      "metadata": {
        "id": "QtbHTi63A3vn"
      }
    },
    {
      "cell_type": "markdown",
      "source": [
        "Transforming non-Gaussian distributed data"
      ],
      "metadata": {
        "id": "NnpyICD-l993"
      }
    },
    {
      "cell_type": "code",
      "source": [
        "from sklearn.preprocessing import PowerTransformer\n",
        "\n",
        "pt = PowerTransformer(standardize=True)\n",
        "X_train_transformed = pt.fit_transform(X_train)\n",
        "X_test_transformed = pt.transform(X_test)\n",
        "print(X_train_transformed)"
      ],
      "metadata": {
        "colab": {
          "base_uri": "https://localhost:8080/"
        },
        "id": "99xMmwX-mZ1z",
        "outputId": "07798f46-f3bb-4c68-c2e4-957ef4256b5f"
      },
      "execution_count": 4,
      "outputs": [
        {
          "output_type": "stream",
          "name": "stdout",
          "text": [
            "[[-1.12664679  1.70170305  0.31329077 -1.06372102]\n",
            " [ 0.05597219  0.87952169  0.88230332  1.34533274]\n",
            " [ 0.86716996  1.36597555 -0.45277799 -1.45338193]\n",
            " [ 1.43333755 -0.80381552  1.58840659 -0.52887309]\n",
            " [ 0.31508602 -1.13057488 -0.23760221 -1.12107835]\n",
            " [ 0.31508602 -1.63274871 -1.28303046  1.18531636]\n",
            " [-1.12664679 -1.77976256 -1.77644441  1.05270656]\n",
            " [-0.3427653  -0.47570144  1.46898652  0.30465822]\n",
            " [-1.12664679 -0.9525142  -1.28303046 -0.76627067]\n",
            " [ 1.6099061   0.03391302 -0.23760221 -1.37993965]\n",
            " [-1.12664679  0.03391302 -1.28303046  1.61012798]\n",
            " [ 1.43333755 -0.47570144  0.88230332  0.76671735]\n",
            " [ 1.02527709  1.03129394 -0.76988727 -0.64142374]\n",
            " [ 0.64971568 -0.62500825 -0.23760221  0.39259042]\n",
            " [-1.12664679  1.03129394  0.6525535   0.71225976]\n",
            " [-0.3427653  -0.14629167  1.11488006 -0.64142374]\n",
            " [ 0.86716996  0.18435986  0.31329077 -0.33327305]\n",
            " [-1.12664679  0.54642886 -0.76988727  1.37070938]\n",
            " [-1.12664679  1.21371571  1.11488006 -0.81103354]]\n"
          ]
        }
      ]
    },
    {
      "cell_type": "markdown",
      "source": [
        "Kode ini digunakan untuk melakukan transformasi data fitur menggunakan teknik Power Transformer, yang berfungsi untuk membuat distribusi data menjadi lebih mendekati distribusi normal.\n",
        "\n",
        "Pertama, objek PowerTransformer dibuat dengan parameter standardize=True, artinya setelah transformasi, data juga akan dinormalisasi menjadi memiliki rata-rata nol dan standar deviasi satu.\n",
        "\n",
        "Kemudian, fit_transform diaplikasikan pada data pelatihan X_train untuk mempelajari parameter transformasi dari data tersebut sekaligus menerapkannya, sehingga menghasilkan data X_train_transformed yang sudah ditransformasi.\n",
        "\n",
        "Selanjutnya, transform digunakan pada data uji X_test dengan parameter transformasi yang sama seperti pada data latih, menghasilkan X_test_transformed. Ini memastikan bahwa data uji diproses dengan cara yang konsisten.\n",
        "\n",
        "Terakhir, hasil transformasi data pelatihan dicetak agar bisa dilihat bagaimana data asli berubah setelah transformasi ini dilakukan. Transformasi ini membantu meningkatkan performa model dengan membuat data lebih sesuai untuk algoritma machine learning yang digunakan.\n",
        "\n",
        "\n",
        "\n",
        "\n",
        "\n",
        "\n",
        "\n",
        "\n",
        "\n"
      ],
      "metadata": {
        "id": "bw_VQqndA-KL"
      }
    },
    {
      "cell_type": "markdown",
      "source": [
        "TRAINING STEPS\n",
        "\n",
        "1.class probability calculation"
      ],
      "metadata": {
        "id": "gUCamgGEnRdD"
      }
    },
    {
      "cell_type": "code",
      "source": [
        "\n",
        "\n",
        "# Calculate prior probabilities for each class\n",
        "prior_probabilities = y_train.value_counts(normalize=True)\n",
        "prior_probabilities\n"
      ],
      "metadata": {
        "colab": {
          "base_uri": "https://localhost:8080/",
          "height": 178
        },
        "id": "Mc82LVvGmaER",
        "outputId": "b1a30757-ddde-4316-d581-fb9aef0d2eb4"
      },
      "execution_count": 5,
      "outputs": [
        {
          "output_type": "execute_result",
          "data": {
            "text/plain": [
              "Play\n",
              "Yes    0.578947\n",
              "No     0.421053\n",
              "Name: proportion, dtype: float64"
            ],
            "text/html": [
              "<div>\n",
              "<style scoped>\n",
              "    .dataframe tbody tr th:only-of-type {\n",
              "        vertical-align: middle;\n",
              "    }\n",
              "\n",
              "    .dataframe tbody tr th {\n",
              "        vertical-align: top;\n",
              "    }\n",
              "\n",
              "    .dataframe thead th {\n",
              "        text-align: right;\n",
              "    }\n",
              "</style>\n",
              "<table border=\"1\" class=\"dataframe\">\n",
              "  <thead>\n",
              "    <tr style=\"text-align: right;\">\n",
              "      <th></th>\n",
              "      <th>proportion</th>\n",
              "    </tr>\n",
              "    <tr>\n",
              "      <th>Play</th>\n",
              "      <th></th>\n",
              "    </tr>\n",
              "  </thead>\n",
              "  <tbody>\n",
              "    <tr>\n",
              "      <th>Yes</th>\n",
              "      <td>0.578947</td>\n",
              "    </tr>\n",
              "    <tr>\n",
              "      <th>No</th>\n",
              "      <td>0.421053</td>\n",
              "    </tr>\n",
              "  </tbody>\n",
              "</table>\n",
              "</div><br><label><b>dtype:</b> float64</label>"
            ]
          },
          "metadata": {},
          "execution_count": 5
        }
      ]
    },
    {
      "cell_type": "markdown",
      "source": [
        "Kode ini menghitung probabilitas prior untuk setiap kelas pada data pelatihan y_train. Probabilitas prior menunjukkan seberapa besar proporsi masing-masing kelas dalam dataset sebelum melihat fitur-fiturnya.\n",
        "\n",
        "Fungsi value_counts(normalize=True) digunakan untuk menghitung frekuensi masing-masing kelas, lalu mengubahnya menjadi proporsi relatif (dalam bentuk persentase atau desimal antara 0 dan 1) dari total data pelatihan.\n",
        "\n",
        "Hasilnya disimpan dalam variabel prior_probabilities, yang dapat digunakan dalam model probabilistik seperti Naive Bayes untuk memperkirakan kemungkinan dasar dari setiap kelas sebelum memperhitungkan fitur-fitur lain. Nilai ini membantu model memahami distribusi kelas secara keseluruhan dalam data latih."
      ],
      "metadata": {
        "id": "HNcxtHMCBDZs"
      }
    },
    {
      "cell_type": "markdown",
      "source": [
        "2.feature probability calculation"
      ],
      "metadata": {
        "id": "bKpm1PJopiYd"
      }
    },
    {
      "cell_type": "code",
      "source": [
        "def calculate_feature_probabilities(X_train_transformed, y_train, feature_names):\n",
        "    classes = y_train.unique()\n",
        "    equations = pd.DataFrame(index=classes, columns=feature_names)\n",
        "\n",
        "    for cls in classes:\n",
        "      X_class = X_train_transformed[y_train == cls]\n",
        "        mean = X_class.mean(axis=0)\n",
        "        std = X_class.std(axis=0)\n",
        "        k1 = 1 / (std * np.sqrt(2 * np.pi))\n",
        "        k2 = 2 * (std ** 2)\n",
        "\n",
        "        for i, column in enumerate(feature_names):\n",
        "            equation = f\"{k1[i]:.3f}.exp(-(x-({mean[i]:.2f}))\""
      ],
      "metadata": {
        "colab": {
          "base_uri": "https://localhost:8080/",
          "height": 106
        },
        "id": "BRFQYIQApmZk",
        "outputId": "e7b9a102-068c-44dc-c188-3cbfde9e662b"
      },
      "execution_count": 6,
      "outputs": [
        {
          "output_type": "error",
          "ename": "IndentationError",
          "evalue": "unexpected indent (<ipython-input-6-1485757540>, line 7)",
          "traceback": [
            "\u001b[0;36m  File \u001b[0;32m\"<ipython-input-6-1485757540>\"\u001b[0;36m, line \u001b[0;32m7\u001b[0m\n\u001b[0;31m    mean = X_class.mean(axis=0)\u001b[0m\n\u001b[0m    ^\u001b[0m\n\u001b[0;31mIndentationError\u001b[0m\u001b[0;31m:\u001b[0m unexpected indent\n"
          ]
        }
      ]
    },
    {
      "cell_type": "markdown",
      "source": [
        "Fungsi calculate_feature_probabilities ini bertujuan menghitung persamaan probabilitas fitur berdasarkan data latih yang sudah ditransformasi (X_train_transformed) dan labelnya (y_train). Probabilitas ini biasanya digunakan dalam model Gaussian Naive Bayes, di mana setiap fitur dianggap berdistribusi normal dengan mean dan standar deviasi tertentu tergantung kelasnya.\n",
        "\n",
        "\n",
        "\n",
        "classes = y_train.unique() digunakan untuk mendapatkan daftar kelas unik yang ada di data latih.\n",
        "\n",
        "equations = pd.DataFrame(index=classes, columns=feature_names) membuat sebuah DataFrame kosong yang nanti akan diisi dengan rumus probabilitas untuk setiap fitur dan kelas.\n",
        "\n",
        "Pada loop for cls in classes: dilakukan pemisahan data fitur hanya yang termasuk kelas tertentu (X_class).\n",
        "\n",
        "Kemudian dihitung nilai rata-rata (mean) dan standar deviasi (std) untuk setiap fitur pada kelas tersebut.\n",
        "\n",
        "k1 dan k2 adalah bagian dari rumus distribusi normal Gaussian, di mana k1 adalah konstanta pembagi dan k2 terkait dengan varians (kuadrat standar deviasi).\n",
        "\n",
        "Dalam loop kedua, untuk setiap fitur di kelas tertentu, rumus probabilitas Gaussian dibentuk dalam bentuk string. Tapi di kode kamu rumusnya belum selesai."
      ],
      "metadata": {
        "id": "Bcjz6iSlBOP7"
      }
    }
  ]
}